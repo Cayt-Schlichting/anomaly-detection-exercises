{
 "cells": [
  {
   "cell_type": "code",
   "execution_count": 1,
   "id": "1092fe57",
   "metadata": {},
   "outputs": [
    {
     "name": "stderr",
     "output_type": "stream",
     "text": [
      "/opt/homebrew/anaconda3/lib/python3.9/site-packages/scipy/__init__.py:146: UserWarning: A NumPy version >=1.16.5 and <1.23.0 is required for this version of SciPy (detected version 1.23.0\n",
      "  warnings.warn(f\"A NumPy version >={np_minversion} and <{np_maxversion}\"\n"
     ]
    }
   ],
   "source": [
    "import numpy as np\n",
    "import pandas as pd\n",
    "\n",
    "import matplotlib.pyplot as plt\n",
    "import seaborn as sns"
   ]
  },
  {
   "cell_type": "markdown",
   "id": "6a5f4863",
   "metadata": {},
   "source": [
    "##### Pull in dataset for testing"
   ]
  },
  {
   "cell_type": "code",
   "execution_count": 2,
   "id": "d890661d",
   "metadata": {},
   "outputs": [],
   "source": [
    "df = pd.read_csv(\"https://gist.githubusercontent.com/ryanorsinger/19bc7eccd6279661bd13307026628ace/raw/e4b5d6787015a4782f96cad6d1d62a8bdbac54c7/lemonade.csv\")"
   ]
  },
  {
   "cell_type": "code",
   "execution_count": 3,
   "id": "75f2851f",
   "metadata": {},
   "outputs": [
    {
     "name": "stdout",
     "output_type": "stream",
     "text": [
      "<class 'pandas.core.frame.DataFrame'>\n",
      "RangeIndex: 365 entries, 0 to 364\n",
      "Data columns (total 7 columns):\n",
      " #   Column       Non-Null Count  Dtype  \n",
      "---  ------       --------------  -----  \n",
      " 0   Date         365 non-null    object \n",
      " 1   Day          365 non-null    object \n",
      " 2   Temperature  365 non-null    float64\n",
      " 3   Rainfall     365 non-null    float64\n",
      " 4   Flyers       365 non-null    int64  \n",
      " 5   Price        365 non-null    float64\n",
      " 6   Sales        365 non-null    int64  \n",
      "dtypes: float64(3), int64(2), object(2)\n",
      "memory usage: 20.1+ KB\n"
     ]
    }
   ],
   "source": [
    "df.info()"
   ]
  },
  {
   "cell_type": "code",
   "execution_count": 17,
   "id": "f697ad91",
   "metadata": {},
   "outputs": [
    {
     "data": {
      "text/html": [
       "<div>\n",
       "<style scoped>\n",
       "    .dataframe tbody tr th:only-of-type {\n",
       "        vertical-align: middle;\n",
       "    }\n",
       "\n",
       "    .dataframe tbody tr th {\n",
       "        vertical-align: top;\n",
       "    }\n",
       "\n",
       "    .dataframe thead th {\n",
       "        text-align: right;\n",
       "    }\n",
       "</style>\n",
       "<table border=\"1\" class=\"dataframe\">\n",
       "  <thead>\n",
       "    <tr style=\"text-align: right;\">\n",
       "      <th></th>\n",
       "      <th>Date</th>\n",
       "      <th>Day</th>\n",
       "      <th>Temperature</th>\n",
       "      <th>Rainfall</th>\n",
       "      <th>Flyers</th>\n",
       "      <th>Price</th>\n",
       "      <th>Sales</th>\n",
       "    </tr>\n",
       "  </thead>\n",
       "  <tbody>\n",
       "    <tr>\n",
       "      <th>0</th>\n",
       "      <td>1/1/17</td>\n",
       "      <td>Sunday</td>\n",
       "      <td>27.0</td>\n",
       "      <td>2.00</td>\n",
       "      <td>15</td>\n",
       "      <td>0.5</td>\n",
       "      <td>10</td>\n",
       "    </tr>\n",
       "    <tr>\n",
       "      <th>1</th>\n",
       "      <td>1/2/17</td>\n",
       "      <td>Monday</td>\n",
       "      <td>28.9</td>\n",
       "      <td>1.33</td>\n",
       "      <td>15</td>\n",
       "      <td>0.5</td>\n",
       "      <td>13</td>\n",
       "    </tr>\n",
       "    <tr>\n",
       "      <th>2</th>\n",
       "      <td>1/3/17</td>\n",
       "      <td>Tuesday</td>\n",
       "      <td>34.5</td>\n",
       "      <td>1.33</td>\n",
       "      <td>27</td>\n",
       "      <td>0.5</td>\n",
       "      <td>15</td>\n",
       "    </tr>\n",
       "    <tr>\n",
       "      <th>3</th>\n",
       "      <td>1/4/17</td>\n",
       "      <td>Wednesday</td>\n",
       "      <td>44.1</td>\n",
       "      <td>1.05</td>\n",
       "      <td>28</td>\n",
       "      <td>0.5</td>\n",
       "      <td>17</td>\n",
       "    </tr>\n",
       "    <tr>\n",
       "      <th>4</th>\n",
       "      <td>1/5/17</td>\n",
       "      <td>Thursday</td>\n",
       "      <td>42.4</td>\n",
       "      <td>1.00</td>\n",
       "      <td>33</td>\n",
       "      <td>0.5</td>\n",
       "      <td>18</td>\n",
       "    </tr>\n",
       "  </tbody>\n",
       "</table>\n",
       "</div>"
      ],
      "text/plain": [
       "     Date        Day  Temperature  Rainfall  Flyers  Price  Sales\n",
       "0  1/1/17     Sunday         27.0      2.00      15    0.5     10\n",
       "1  1/2/17     Monday         28.9      1.33      15    0.5     13\n",
       "2  1/3/17    Tuesday         34.5      1.33      27    0.5     15\n",
       "3  1/4/17  Wednesday         44.1      1.05      28    0.5     17\n",
       "4  1/5/17   Thursday         42.4      1.00      33    0.5     18"
      ]
     },
     "execution_count": 17,
     "metadata": {},
     "output_type": "execute_result"
    }
   ],
   "source": [
    "df.head()"
   ]
  },
  {
   "cell_type": "code",
   "execution_count": 18,
   "id": "8dca8f7e",
   "metadata": {},
   "outputs": [
    {
     "data": {
      "text/html": [
       "<div>\n",
       "<style scoped>\n",
       "    .dataframe tbody tr th:only-of-type {\n",
       "        vertical-align: middle;\n",
       "    }\n",
       "\n",
       "    .dataframe tbody tr th {\n",
       "        vertical-align: top;\n",
       "    }\n",
       "\n",
       "    .dataframe thead th {\n",
       "        text-align: right;\n",
       "    }\n",
       "</style>\n",
       "<table border=\"1\" class=\"dataframe\">\n",
       "  <thead>\n",
       "    <tr style=\"text-align: right;\">\n",
       "      <th></th>\n",
       "      <th>Temperature</th>\n",
       "      <th>Rainfall</th>\n",
       "      <th>Flyers</th>\n",
       "      <th>Price</th>\n",
       "      <th>Sales</th>\n",
       "    </tr>\n",
       "  </thead>\n",
       "  <tbody>\n",
       "    <tr>\n",
       "      <th>count</th>\n",
       "      <td>365.000000</td>\n",
       "      <td>365.000000</td>\n",
       "      <td>365.000000</td>\n",
       "      <td>365.0</td>\n",
       "      <td>365.000000</td>\n",
       "    </tr>\n",
       "    <tr>\n",
       "      <th>mean</th>\n",
       "      <td>61.224658</td>\n",
       "      <td>0.825973</td>\n",
       "      <td>40.104110</td>\n",
       "      <td>0.5</td>\n",
       "      <td>27.865753</td>\n",
       "    </tr>\n",
       "    <tr>\n",
       "      <th>std</th>\n",
       "      <td>18.085892</td>\n",
       "      <td>0.273890</td>\n",
       "      <td>13.786445</td>\n",
       "      <td>0.0</td>\n",
       "      <td>30.948132</td>\n",
       "    </tr>\n",
       "    <tr>\n",
       "      <th>min</th>\n",
       "      <td>15.100000</td>\n",
       "      <td>0.400000</td>\n",
       "      <td>-38.000000</td>\n",
       "      <td>0.5</td>\n",
       "      <td>7.000000</td>\n",
       "    </tr>\n",
       "    <tr>\n",
       "      <th>25%</th>\n",
       "      <td>49.700000</td>\n",
       "      <td>0.650000</td>\n",
       "      <td>31.000000</td>\n",
       "      <td>0.5</td>\n",
       "      <td>20.000000</td>\n",
       "    </tr>\n",
       "    <tr>\n",
       "      <th>50%</th>\n",
       "      <td>61.100000</td>\n",
       "      <td>0.740000</td>\n",
       "      <td>39.000000</td>\n",
       "      <td>0.5</td>\n",
       "      <td>25.000000</td>\n",
       "    </tr>\n",
       "    <tr>\n",
       "      <th>75%</th>\n",
       "      <td>71.700000</td>\n",
       "      <td>0.910000</td>\n",
       "      <td>49.000000</td>\n",
       "      <td>0.5</td>\n",
       "      <td>30.000000</td>\n",
       "    </tr>\n",
       "    <tr>\n",
       "      <th>max</th>\n",
       "      <td>212.000000</td>\n",
       "      <td>2.500000</td>\n",
       "      <td>80.000000</td>\n",
       "      <td>0.5</td>\n",
       "      <td>534.000000</td>\n",
       "    </tr>\n",
       "  </tbody>\n",
       "</table>\n",
       "</div>"
      ],
      "text/plain": [
       "       Temperature    Rainfall      Flyers  Price       Sales\n",
       "count   365.000000  365.000000  365.000000  365.0  365.000000\n",
       "mean     61.224658    0.825973   40.104110    0.5   27.865753\n",
       "std      18.085892    0.273890   13.786445    0.0   30.948132\n",
       "min      15.100000    0.400000  -38.000000    0.5    7.000000\n",
       "25%      49.700000    0.650000   31.000000    0.5   20.000000\n",
       "50%      61.100000    0.740000   39.000000    0.5   25.000000\n",
       "75%      71.700000    0.910000   49.000000    0.5   30.000000\n",
       "max     212.000000    2.500000   80.000000    0.5  534.000000"
      ]
     },
     "execution_count": 18,
     "metadata": {},
     "output_type": "execute_result"
    }
   ],
   "source": [
    "df.describe()"
   ]
  },
  {
   "cell_type": "markdown",
   "id": "eb266cd5",
   "metadata": {},
   "source": [
    "##### Create a function that gets IQR bounds \n",
    "- Instead of \"get_lower_and_upper_bounds\" will be called \"get_iqr_bounds\"\n",
    "- Takes Dataframes instead of Series"
   ]
  },
  {
   "cell_type": "code",
   "execution_count": 13,
   "id": "b1f2ddbd",
   "metadata": {},
   "outputs": [],
   "source": [
    "def get_iqr_outlier_bounds(data,multiplier=1.5,include=None,exclude=None):\n",
    "    \"\"\"\n",
    "    Returns dataframe with list of columns and the upper and lower bounds using the IQR method:\n",
    "        LB = Q1 - multiplier * IQR\n",
    "        UB = Q3 + multiplier * IQR\n",
    "    If no columns passed to include or exclude, it defaults to finding outliers for all columns.\n",
    "    Function will ignore non-numeric columns.\n",
    "    \n",
    "    Returns: \n",
    "        If provided Dataframe: Returns Pandas Dataframe with \"lower_bound\" and \"upper_bound\"\n",
    "           If provided Series: Returns Tuple - lower bound, then upper bound\n",
    "        \n",
    "    Parameters:\n",
    "          data: Pandas dataframe or Pandas Series\n",
    "    multiplier: multiplier to determine level of outliers to find (mild to extreme).  Default = 1.5\n",
    "       include: list of columns to find outliers for\n",
    "        excude: list of columns to NOT find outliers for.  Ignored if 'include'is set.   \n",
    "    \n",
    "    C88\n",
    "    \"\"\"\n",
    "    #If passed a dataframe - \n",
    "    if isinstance(data,pd.DataFrame):\n",
    "        #Get Column List\n",
    "        #if include and exclude are None\n",
    "        if not include and not exclude:\n",
    "            columns = data.columns #returns index - iterable\n",
    "        elif include:\n",
    "            columns = include\n",
    "        else: columns = exclude\n",
    "            \n",
    "        #Only pull out numeric columns\n",
    "        columns = data[columns].select_dtypes(include='number')\n",
    "\n",
    "        #create df for bounds\n",
    "        bounds = pd.DataFrame()\n",
    "        #for each column, \n",
    "        for col in columns:\n",
    "            #find bounds for this column\n",
    "            lb, ub = get_lower_and_upper_bounds(data[col],multiplier=multiplier)\n",
    "            #add to bounds dataframe\n",
    "            bounds.loc['lower_bound',col] = lb\n",
    "            bounds.loc['upper_bound',col] = ub\n",
    "        return bounds\n",
    "    elif isinstance(data,pd.Series):\n",
    "        return get_lower_and_upper_bounds(data,multiplier=multiplier)\n",
    "\n",
    "def get_lower_and_upper_bounds(dataseries,multiplier=1.5):\n",
    "    '''\n",
    "    Returns lower and upper bounds of a seriesusing the IQR method:\n",
    "        LB = Q1 - multiplier * IQR\n",
    "        UB = Q3 + multiplier * IQR\n",
    "        \n",
    "    Returns: Tuple - lower bound, then upper bound\n",
    "        \n",
    "    Parameters:\n",
    "          data: Pandas Series\n",
    "    multiplier: multiplier to determine level of outliers to find (mild to extreme).  Default = 1.5\n",
    "       \n",
    "    '''\n",
    "    q1, q3 = dataseries.quantile([.25,.75])\n",
    "    iqr = q3 - q1\n",
    "    lb = q1 - (multiplier * iqr)\n",
    "    ub = q3 + (multiplier * iqr)\n",
    "    return lb, ub"
   ]
  },
  {
   "cell_type": "code",
   "execution_count": 31,
   "id": "7b4705d0",
   "metadata": {},
   "outputs": [],
   "source": [
    "def trim_iqr_outliers(df,bounds):\n",
    "    \"\"\"\n",
    "    Takes in the dataset dataframe, and dataframe of the bounds for each column to be trimmed.\n",
    "    Returns: Trimmed dataframe\n",
    "    \"\"\"\n",
    "    #loop over columns to work on\n",
    "    for col in bounds.columns:\n",
    "        #for each col, grab the outliers\n",
    "        lb = bounds.loc['lower_bound',col]\n",
    "        ub = bounds.loc['upper_bound',col]\n",
    "        #create smaller df of only rows where column is in bounds\n",
    "        df = df[(df[col] >= lb) & (df[col]<=ub)]\n",
    "    return df\n",
    "\n",
    "def calc_outliers(x,lb,ub):\n",
    "    ''''\n",
    "    Given a value, determines if it is between the provided upper and lower bounds.  \n",
    "    If b/w bounds, returns 0, else returns the distance outside of the bounds\n",
    "    '''\n",
    "    #if not an outlier, set to zero\n",
    "    if lb <= x <= ub: return 0\n",
    "    elif x < lb: return x-lb\n",
    "    else: return x-ub\n",
    "\n",
    "def add_outlier_columns(df,bounds):\n",
    "    #loop over columns in bounds\n",
    "    for col in bounds.columns:\n",
    "        #new column name\n",
    "        col_name = col + '_outlier'\n",
    "        #for each column, apply the outlier calculation and store to new column\n",
    "        df[col_name] = df[col].apply(calc_outliers,args=(bounds.loc['lower_bound',col],bounds.loc['upper_bound',col]))\n",
    "    return df\n",
    "\n",
    "\n",
    "def handle_iqr_outliers(old_df,trim=False,multiplier=1.5,include=None,exclude=None):\n",
    "    \"\"\"\n",
    "    Takes in a dataframe and either trims outliers or creates column identifying outliers. \n",
    "    \n",
    "    Outputs: None\n",
    "    Returns: Pandas Dataframe\n",
    "    Parameters:\n",
    "                   df: dataframe in which to find outliers\n",
    "                 trim: If True, will trim out any rows that contain any outliers.  \n",
    "                        If False, creates new columns to indicate if row is an outlier or not.\n",
    "                        Default: False\n",
    "      include/exclude: list of columns to include or exclude for this function.  \n",
    "                       Default is all, exclude will be ignored if include is provided.\n",
    "    C88\n",
    "    \"\"\"    \n",
    "    df= old_df.copy()    \n",
    "    #Get bounds dataframe\n",
    "    bounds = get_iqr_outlier_bounds(df,multiplier,include,exclude)\n",
    "\n",
    "    #If we want new column \n",
    "    if trim:\n",
    "        #Function trims row if value not w/i bounds\n",
    "        df = trim_iqr_outliers(df,bounds)\n",
    "    else:\n",
    "        #function determines if outlier and adds new columnadds new columns \n",
    "        df = add_outlier_columns(df,bounds)\n",
    "        \n",
    "    return df"
   ]
  },
  {
   "cell_type": "code",
   "execution_count": 14,
   "id": "4050b8ea",
   "metadata": {},
   "outputs": [
    {
     "name": "stdout",
     "output_type": "stream",
     "text": [
      "<class 'pandas.core.frame.DataFrame'>\n",
      "RangeIndex: 365 entries, 0 to 364\n",
      "Data columns (total 7 columns):\n",
      " #   Column       Non-Null Count  Dtype  \n",
      "---  ------       --------------  -----  \n",
      " 0   Date         365 non-null    object \n",
      " 1   Day          365 non-null    object \n",
      " 2   Temperature  365 non-null    float64\n",
      " 3   Rainfall     365 non-null    float64\n",
      " 4   Flyers       365 non-null    int64  \n",
      " 5   Price        365 non-null    float64\n",
      " 6   Sales        365 non-null    int64  \n",
      "dtypes: float64(3), int64(2), object(2)\n",
      "memory usage: 20.1+ KB\n"
     ]
    }
   ],
   "source": [
    "df.info()"
   ]
  },
  {
   "cell_type": "code",
   "execution_count": 15,
   "id": "555ecf78",
   "metadata": {},
   "outputs": [
    {
     "data": {
      "text/plain": [
       "(16.700000000000003, 104.7)"
      ]
     },
     "execution_count": 15,
     "metadata": {},
     "output_type": "execute_result"
    }
   ],
   "source": [
    "get_lower_and_upper_bounds(df.Temperature)"
   ]
  },
  {
   "cell_type": "markdown",
   "id": "648c9c7f",
   "metadata": {},
   "source": [
    "##### Get lower and upper outliers of lemonade data using 1.5 multiplier"
   ]
  },
  {
   "cell_type": "code",
   "execution_count": 16,
   "id": "d5bc1219",
   "metadata": {},
   "outputs": [
    {
     "data": {
      "text/html": [
       "<div>\n",
       "<style scoped>\n",
       "    .dataframe tbody tr th:only-of-type {\n",
       "        vertical-align: middle;\n",
       "    }\n",
       "\n",
       "    .dataframe tbody tr th {\n",
       "        vertical-align: top;\n",
       "    }\n",
       "\n",
       "    .dataframe thead th {\n",
       "        text-align: right;\n",
       "    }\n",
       "</style>\n",
       "<table border=\"1\" class=\"dataframe\">\n",
       "  <thead>\n",
       "    <tr style=\"text-align: right;\">\n",
       "      <th></th>\n",
       "      <th>Temperature</th>\n",
       "      <th>Rainfall</th>\n",
       "      <th>Flyers</th>\n",
       "      <th>Price</th>\n",
       "      <th>Sales</th>\n",
       "    </tr>\n",
       "  </thead>\n",
       "  <tbody>\n",
       "    <tr>\n",
       "      <th>lower_bound</th>\n",
       "      <td>16.7</td>\n",
       "      <td>0.26</td>\n",
       "      <td>4.0</td>\n",
       "      <td>0.5</td>\n",
       "      <td>5.0</td>\n",
       "    </tr>\n",
       "    <tr>\n",
       "      <th>upper_bound</th>\n",
       "      <td>104.7</td>\n",
       "      <td>1.30</td>\n",
       "      <td>76.0</td>\n",
       "      <td>0.5</td>\n",
       "      <td>45.0</td>\n",
       "    </tr>\n",
       "  </tbody>\n",
       "</table>\n",
       "</div>"
      ],
      "text/plain": [
       "             Temperature  Rainfall  Flyers  Price  Sales\n",
       "lower_bound         16.7      0.26     4.0    0.5    5.0\n",
       "upper_bound        104.7      1.30    76.0    0.5   45.0"
      ]
     },
     "execution_count": 16,
     "metadata": {},
     "output_type": "execute_result"
    }
   ],
   "source": [
    "get_iqr_outlier_bounds(df)"
   ]
  },
  {
   "cell_type": "code",
   "execution_count": 34,
   "id": "dce1c964",
   "metadata": {},
   "outputs": [
    {
     "data": {
      "text/html": [
       "<div>\n",
       "<style scoped>\n",
       "    .dataframe tbody tr th:only-of-type {\n",
       "        vertical-align: middle;\n",
       "    }\n",
       "\n",
       "    .dataframe tbody tr th {\n",
       "        vertical-align: top;\n",
       "    }\n",
       "\n",
       "    .dataframe thead th {\n",
       "        text-align: right;\n",
       "    }\n",
       "</style>\n",
       "<table border=\"1\" class=\"dataframe\">\n",
       "  <thead>\n",
       "    <tr style=\"text-align: right;\">\n",
       "      <th></th>\n",
       "      <th>Date</th>\n",
       "      <th>Day</th>\n",
       "      <th>Temperature</th>\n",
       "      <th>Rainfall</th>\n",
       "      <th>Flyers</th>\n",
       "      <th>Price</th>\n",
       "      <th>Sales</th>\n",
       "      <th>Temperature_outlier</th>\n",
       "      <th>Rainfall_outlier</th>\n",
       "      <th>Flyers_outlier</th>\n",
       "      <th>Price_outlier</th>\n",
       "      <th>Sales_outlier</th>\n",
       "    </tr>\n",
       "  </thead>\n",
       "  <tbody>\n",
       "    <tr>\n",
       "      <th>0</th>\n",
       "      <td>1/1/17</td>\n",
       "      <td>Sunday</td>\n",
       "      <td>27.0</td>\n",
       "      <td>2.00</td>\n",
       "      <td>15</td>\n",
       "      <td>0.5</td>\n",
       "      <td>10</td>\n",
       "      <td>0.0</td>\n",
       "      <td>0.70</td>\n",
       "      <td>0.0</td>\n",
       "      <td>0</td>\n",
       "      <td>0.0</td>\n",
       "    </tr>\n",
       "    <tr>\n",
       "      <th>1</th>\n",
       "      <td>1/2/17</td>\n",
       "      <td>Monday</td>\n",
       "      <td>28.9</td>\n",
       "      <td>1.33</td>\n",
       "      <td>15</td>\n",
       "      <td>0.5</td>\n",
       "      <td>13</td>\n",
       "      <td>0.0</td>\n",
       "      <td>0.03</td>\n",
       "      <td>0.0</td>\n",
       "      <td>0</td>\n",
       "      <td>0.0</td>\n",
       "    </tr>\n",
       "    <tr>\n",
       "      <th>2</th>\n",
       "      <td>1/3/17</td>\n",
       "      <td>Tuesday</td>\n",
       "      <td>34.5</td>\n",
       "      <td>1.33</td>\n",
       "      <td>27</td>\n",
       "      <td>0.5</td>\n",
       "      <td>15</td>\n",
       "      <td>0.0</td>\n",
       "      <td>0.03</td>\n",
       "      <td>0.0</td>\n",
       "      <td>0</td>\n",
       "      <td>0.0</td>\n",
       "    </tr>\n",
       "    <tr>\n",
       "      <th>3</th>\n",
       "      <td>1/4/17</td>\n",
       "      <td>Wednesday</td>\n",
       "      <td>44.1</td>\n",
       "      <td>1.05</td>\n",
       "      <td>28</td>\n",
       "      <td>0.5</td>\n",
       "      <td>17</td>\n",
       "      <td>0.0</td>\n",
       "      <td>0.00</td>\n",
       "      <td>0.0</td>\n",
       "      <td>0</td>\n",
       "      <td>0.0</td>\n",
       "    </tr>\n",
       "    <tr>\n",
       "      <th>4</th>\n",
       "      <td>1/5/17</td>\n",
       "      <td>Thursday</td>\n",
       "      <td>42.4</td>\n",
       "      <td>1.00</td>\n",
       "      <td>33</td>\n",
       "      <td>0.5</td>\n",
       "      <td>18</td>\n",
       "      <td>0.0</td>\n",
       "      <td>0.00</td>\n",
       "      <td>0.0</td>\n",
       "      <td>0</td>\n",
       "      <td>0.0</td>\n",
       "    </tr>\n",
       "    <tr>\n",
       "      <th>...</th>\n",
       "      <td>...</td>\n",
       "      <td>...</td>\n",
       "      <td>...</td>\n",
       "      <td>...</td>\n",
       "      <td>...</td>\n",
       "      <td>...</td>\n",
       "      <td>...</td>\n",
       "      <td>...</td>\n",
       "      <td>...</td>\n",
       "      <td>...</td>\n",
       "      <td>...</td>\n",
       "      <td>...</td>\n",
       "    </tr>\n",
       "    <tr>\n",
       "      <th>360</th>\n",
       "      <td>12/27/17</td>\n",
       "      <td>Wednesday</td>\n",
       "      <td>42.7</td>\n",
       "      <td>1.00</td>\n",
       "      <td>33</td>\n",
       "      <td>0.5</td>\n",
       "      <td>19</td>\n",
       "      <td>0.0</td>\n",
       "      <td>0.00</td>\n",
       "      <td>0.0</td>\n",
       "      <td>0</td>\n",
       "      <td>0.0</td>\n",
       "    </tr>\n",
       "    <tr>\n",
       "      <th>361</th>\n",
       "      <td>12/28/17</td>\n",
       "      <td>Thursday</td>\n",
       "      <td>37.8</td>\n",
       "      <td>1.25</td>\n",
       "      <td>32</td>\n",
       "      <td>0.5</td>\n",
       "      <td>16</td>\n",
       "      <td>0.0</td>\n",
       "      <td>0.00</td>\n",
       "      <td>0.0</td>\n",
       "      <td>0</td>\n",
       "      <td>0.0</td>\n",
       "    </tr>\n",
       "    <tr>\n",
       "      <th>362</th>\n",
       "      <td>12/29/17</td>\n",
       "      <td>Friday</td>\n",
       "      <td>39.5</td>\n",
       "      <td>1.25</td>\n",
       "      <td>17</td>\n",
       "      <td>0.5</td>\n",
       "      <td>15</td>\n",
       "      <td>0.0</td>\n",
       "      <td>0.00</td>\n",
       "      <td>0.0</td>\n",
       "      <td>0</td>\n",
       "      <td>0.0</td>\n",
       "    </tr>\n",
       "    <tr>\n",
       "      <th>363</th>\n",
       "      <td>12/30/17</td>\n",
       "      <td>Saturday</td>\n",
       "      <td>30.9</td>\n",
       "      <td>1.43</td>\n",
       "      <td>22</td>\n",
       "      <td>0.5</td>\n",
       "      <td>13</td>\n",
       "      <td>0.0</td>\n",
       "      <td>0.13</td>\n",
       "      <td>0.0</td>\n",
       "      <td>0</td>\n",
       "      <td>0.0</td>\n",
       "    </tr>\n",
       "    <tr>\n",
       "      <th>364</th>\n",
       "      <td>12/31/17</td>\n",
       "      <td>Sunday</td>\n",
       "      <td>15.1</td>\n",
       "      <td>2.50</td>\n",
       "      <td>9</td>\n",
       "      <td>0.5</td>\n",
       "      <td>7</td>\n",
       "      <td>-1.6</td>\n",
       "      <td>1.20</td>\n",
       "      <td>0.0</td>\n",
       "      <td>0</td>\n",
       "      <td>0.0</td>\n",
       "    </tr>\n",
       "  </tbody>\n",
       "</table>\n",
       "<p>365 rows × 12 columns</p>\n",
       "</div>"
      ],
      "text/plain": [
       "         Date        Day  Temperature  Rainfall  Flyers  Price  Sales  \\\n",
       "0      1/1/17     Sunday         27.0      2.00      15    0.5     10   \n",
       "1      1/2/17     Monday         28.9      1.33      15    0.5     13   \n",
       "2      1/3/17    Tuesday         34.5      1.33      27    0.5     15   \n",
       "3      1/4/17  Wednesday         44.1      1.05      28    0.5     17   \n",
       "4      1/5/17   Thursday         42.4      1.00      33    0.5     18   \n",
       "..        ...        ...          ...       ...     ...    ...    ...   \n",
       "360  12/27/17  Wednesday         42.7      1.00      33    0.5     19   \n",
       "361  12/28/17   Thursday         37.8      1.25      32    0.5     16   \n",
       "362  12/29/17     Friday         39.5      1.25      17    0.5     15   \n",
       "363  12/30/17   Saturday         30.9      1.43      22    0.5     13   \n",
       "364  12/31/17     Sunday         15.1      2.50       9    0.5      7   \n",
       "\n",
       "     Temperature_outlier  Rainfall_outlier  Flyers_outlier  Price_outlier  \\\n",
       "0                    0.0              0.70             0.0              0   \n",
       "1                    0.0              0.03             0.0              0   \n",
       "2                    0.0              0.03             0.0              0   \n",
       "3                    0.0              0.00             0.0              0   \n",
       "4                    0.0              0.00             0.0              0   \n",
       "..                   ...               ...             ...            ...   \n",
       "360                  0.0              0.00             0.0              0   \n",
       "361                  0.0              0.00             0.0              0   \n",
       "362                  0.0              0.00             0.0              0   \n",
       "363                  0.0              0.13             0.0              0   \n",
       "364                 -1.6              1.20             0.0              0   \n",
       "\n",
       "     Sales_outlier  \n",
       "0              0.0  \n",
       "1              0.0  \n",
       "2              0.0  \n",
       "3              0.0  \n",
       "4              0.0  \n",
       "..             ...  \n",
       "360            0.0  \n",
       "361            0.0  \n",
       "362            0.0  \n",
       "363            0.0  \n",
       "364            0.0  \n",
       "\n",
       "[365 rows x 12 columns]"
      ]
     },
     "execution_count": 34,
     "metadata": {},
     "output_type": "execute_result"
    }
   ],
   "source": [
    "find_outliers = handle_iqr_outliers(df,trim=False)\n",
    "find_outliers"
   ]
  },
  {
   "cell_type": "code",
   "execution_count": 41,
   "id": "cb6f40e6",
   "metadata": {},
   "outputs": [
    {
     "data": {
      "text/plain": [
       "41     212.0\n",
       "364     15.1\n",
       "Name: Temperature, dtype: float64"
      ]
     },
     "execution_count": 41,
     "metadata": {},
     "output_type": "execute_result"
    }
   ],
   "source": [
    "find_outliers.Temperature[find_outliers.Temperature_outlier != 0]"
   ]
  },
  {
   "cell_type": "code",
   "execution_count": 42,
   "id": "49f4f472",
   "metadata": {},
   "outputs": [
    {
     "data": {
      "text/plain": [
       "0      2.00\n",
       "1      1.33\n",
       "2      1.33\n",
       "5      1.54\n",
       "6      1.54\n",
       "10     1.54\n",
       "11     1.33\n",
       "12     1.33\n",
       "15     1.67\n",
       "16     1.43\n",
       "19     1.43\n",
       "23     1.54\n",
       "27     1.33\n",
       "28     1.33\n",
       "337    1.54\n",
       "338    1.82\n",
       "342    1.43\n",
       "343    1.82\n",
       "345    1.33\n",
       "346    1.43\n",
       "347    1.54\n",
       "350    1.33\n",
       "351    1.43\n",
       "354    1.33\n",
       "355    1.54\n",
       "359    1.43\n",
       "363    1.43\n",
       "364    2.50\n",
       "Name: Rainfall, dtype: float64"
      ]
     },
     "execution_count": 42,
     "metadata": {},
     "output_type": "execute_result"
    }
   ],
   "source": [
    "find_outliers.Rainfall[find_outliers.Rainfall_outlier != 0]"
   ]
  },
  {
   "cell_type": "code",
   "execution_count": 38,
   "id": "d5d66931",
   "metadata": {},
   "outputs": [
    {
     "data": {
      "text/html": [
       "<div>\n",
       "<style scoped>\n",
       "    .dataframe tbody tr th:only-of-type {\n",
       "        vertical-align: middle;\n",
       "    }\n",
       "\n",
       "    .dataframe tbody tr th {\n",
       "        vertical-align: top;\n",
       "    }\n",
       "\n",
       "    .dataframe thead th {\n",
       "        text-align: right;\n",
       "    }\n",
       "</style>\n",
       "<table border=\"1\" class=\"dataframe\">\n",
       "  <thead>\n",
       "    <tr style=\"text-align: right;\">\n",
       "      <th></th>\n",
       "      <th>Date</th>\n",
       "      <th>Day</th>\n",
       "      <th>Temperature</th>\n",
       "      <th>Rainfall</th>\n",
       "      <th>Flyers</th>\n",
       "      <th>Price</th>\n",
       "      <th>Sales</th>\n",
       "      <th>Temperature_outlier</th>\n",
       "      <th>Rainfall_outlier</th>\n",
       "      <th>Flyers_outlier</th>\n",
       "      <th>Price_outlier</th>\n",
       "      <th>Sales_outlier</th>\n",
       "    </tr>\n",
       "  </thead>\n",
       "  <tbody>\n",
       "    <tr>\n",
       "      <th>166</th>\n",
       "      <td>6/16/17</td>\n",
       "      <td>Friday</td>\n",
       "      <td>99.3</td>\n",
       "      <td>0.47</td>\n",
       "      <td>77</td>\n",
       "      <td>0.5</td>\n",
       "      <td>41</td>\n",
       "      <td>0.0</td>\n",
       "      <td>0.0</td>\n",
       "      <td>1.0</td>\n",
       "      <td>0</td>\n",
       "      <td>0.0</td>\n",
       "    </tr>\n",
       "    <tr>\n",
       "      <th>194</th>\n",
       "      <td>7/14/17</td>\n",
       "      <td>Friday</td>\n",
       "      <td>92.0</td>\n",
       "      <td>0.50</td>\n",
       "      <td>80</td>\n",
       "      <td>0.5</td>\n",
       "      <td>40</td>\n",
       "      <td>0.0</td>\n",
       "      <td>0.0</td>\n",
       "      <td>4.0</td>\n",
       "      <td>0</td>\n",
       "      <td>0.0</td>\n",
       "    </tr>\n",
       "    <tr>\n",
       "      <th>324</th>\n",
       "      <td>11/21/17</td>\n",
       "      <td>Tuesday</td>\n",
       "      <td>47.0</td>\n",
       "      <td>0.95</td>\n",
       "      <td>-38</td>\n",
       "      <td>0.5</td>\n",
       "      <td>20</td>\n",
       "      <td>0.0</td>\n",
       "      <td>0.0</td>\n",
       "      <td>-42.0</td>\n",
       "      <td>0</td>\n",
       "      <td>0.0</td>\n",
       "    </tr>\n",
       "  </tbody>\n",
       "</table>\n",
       "</div>"
      ],
      "text/plain": [
       "         Date      Day  Temperature  Rainfall  Flyers  Price  Sales  \\\n",
       "166   6/16/17   Friday         99.3      0.47      77    0.5     41   \n",
       "194   7/14/17   Friday         92.0      0.50      80    0.5     40   \n",
       "324  11/21/17  Tuesday         47.0      0.95     -38    0.5     20   \n",
       "\n",
       "     Temperature_outlier  Rainfall_outlier  Flyers_outlier  Price_outlier  \\\n",
       "166                  0.0               0.0             1.0              0   \n",
       "194                  0.0               0.0             4.0              0   \n",
       "324                  0.0               0.0           -42.0              0   \n",
       "\n",
       "     Sales_outlier  \n",
       "166            0.0  \n",
       "194            0.0  \n",
       "324            0.0  "
      ]
     },
     "execution_count": 38,
     "metadata": {},
     "output_type": "execute_result"
    }
   ],
   "source": [
    "find_outliers.Flyers[find_outliers.Flyers_outlier != 0]"
   ]
  },
  {
   "cell_type": "code",
   "execution_count": 43,
   "id": "a4b4b460",
   "metadata": {},
   "outputs": [
    {
     "data": {
      "text/plain": [
       "Series([], Name: Price, dtype: float64)"
      ]
     },
     "execution_count": 43,
     "metadata": {},
     "output_type": "execute_result"
    }
   ],
   "source": [
    "find_outliers.Price[find_outliers.Price_outlier != 0]"
   ]
  },
  {
   "cell_type": "code",
   "execution_count": 45,
   "id": "8e555013",
   "metadata": {},
   "outputs": [
    {
     "data": {
      "text/plain": [
       "181    143\n",
       "182    158\n",
       "183    235\n",
       "184    534\n",
       "Name: Sales, dtype: int64"
      ]
     },
     "execution_count": 45,
     "metadata": {},
     "output_type": "execute_result"
    }
   ],
   "source": [
    "find_outliers.Sales[find_outliers.Sales_outlier != 0]"
   ]
  },
  {
   "cell_type": "markdown",
   "id": "9f115b71",
   "metadata": {},
   "source": [
    "By just looking at these outliers, I wouldn't necessarily get rid of everything. We can definitely get rid of the 200+ degree temperature.  The Rain seems fine, the price has no outliers.  The Flyers have a negative value that can be thrown out.  The Sales have some high values, but I wouldn't necessarily throw them out without looking at the rest of the data for those days."
   ]
  },
  {
   "cell_type": "markdown",
   "id": "8bb9c2ed",
   "metadata": {},
   "source": [
    "##### Get bounds using a multiplier of 3"
   ]
  },
  {
   "cell_type": "code",
   "execution_count": 20,
   "id": "8ed34c01",
   "metadata": {},
   "outputs": [
    {
     "data": {
      "text/html": [
       "<div>\n",
       "<style scoped>\n",
       "    .dataframe tbody tr th:only-of-type {\n",
       "        vertical-align: middle;\n",
       "    }\n",
       "\n",
       "    .dataframe tbody tr th {\n",
       "        vertical-align: top;\n",
       "    }\n",
       "\n",
       "    .dataframe thead th {\n",
       "        text-align: right;\n",
       "    }\n",
       "</style>\n",
       "<table border=\"1\" class=\"dataframe\">\n",
       "  <thead>\n",
       "    <tr style=\"text-align: right;\">\n",
       "      <th></th>\n",
       "      <th>Temperature</th>\n",
       "      <th>Rainfall</th>\n",
       "      <th>Flyers</th>\n",
       "      <th>Price</th>\n",
       "      <th>Sales</th>\n",
       "    </tr>\n",
       "  </thead>\n",
       "  <tbody>\n",
       "    <tr>\n",
       "      <th>lower_bound</th>\n",
       "      <td>-16.3</td>\n",
       "      <td>-0.13</td>\n",
       "      <td>-23.0</td>\n",
       "      <td>0.5</td>\n",
       "      <td>-10.0</td>\n",
       "    </tr>\n",
       "    <tr>\n",
       "      <th>upper_bound</th>\n",
       "      <td>137.7</td>\n",
       "      <td>1.69</td>\n",
       "      <td>103.0</td>\n",
       "      <td>0.5</td>\n",
       "      <td>60.0</td>\n",
       "    </tr>\n",
       "  </tbody>\n",
       "</table>\n",
       "</div>"
      ],
      "text/plain": [
       "             Temperature  Rainfall  Flyers  Price  Sales\n",
       "lower_bound        -16.3     -0.13   -23.0    0.5  -10.0\n",
       "upper_bound        137.7      1.69   103.0    0.5   60.0"
      ]
     },
     "execution_count": 20,
     "metadata": {},
     "output_type": "execute_result"
    }
   ],
   "source": [
    "get_iqr_outlier_bounds(df,multiplier=3)"
   ]
  },
  {
   "cell_type": "code",
   "execution_count": 59,
   "id": "a2781156",
   "metadata": {},
   "outputs": [
    {
     "data": {
      "text/html": [
       "<div>\n",
       "<style scoped>\n",
       "    .dataframe tbody tr th:only-of-type {\n",
       "        vertical-align: middle;\n",
       "    }\n",
       "\n",
       "    .dataframe tbody tr th {\n",
       "        vertical-align: top;\n",
       "    }\n",
       "\n",
       "    .dataframe thead th {\n",
       "        text-align: right;\n",
       "    }\n",
       "</style>\n",
       "<table border=\"1\" class=\"dataframe\">\n",
       "  <thead>\n",
       "    <tr style=\"text-align: right;\">\n",
       "      <th></th>\n",
       "      <th>Date</th>\n",
       "      <th>Day</th>\n",
       "      <th>Temperature</th>\n",
       "      <th>Rainfall</th>\n",
       "      <th>Flyers</th>\n",
       "      <th>Price</th>\n",
       "      <th>Sales</th>\n",
       "      <th>Temperature_outlier</th>\n",
       "      <th>Rainfall_outlier</th>\n",
       "      <th>Flyers_outlier</th>\n",
       "      <th>Price_outlier</th>\n",
       "      <th>Sales_outlier</th>\n",
       "    </tr>\n",
       "  </thead>\n",
       "  <tbody>\n",
       "    <tr>\n",
       "      <th>0</th>\n",
       "      <td>1/1/17</td>\n",
       "      <td>Sunday</td>\n",
       "      <td>27.0</td>\n",
       "      <td>2.00</td>\n",
       "      <td>15</td>\n",
       "      <td>0.5</td>\n",
       "      <td>10</td>\n",
       "      <td>0.0</td>\n",
       "      <td>0.31</td>\n",
       "      <td>0.0</td>\n",
       "      <td>0</td>\n",
       "      <td>0.0</td>\n",
       "    </tr>\n",
       "    <tr>\n",
       "      <th>1</th>\n",
       "      <td>1/2/17</td>\n",
       "      <td>Monday</td>\n",
       "      <td>28.9</td>\n",
       "      <td>1.33</td>\n",
       "      <td>15</td>\n",
       "      <td>0.5</td>\n",
       "      <td>13</td>\n",
       "      <td>0.0</td>\n",
       "      <td>0.00</td>\n",
       "      <td>0.0</td>\n",
       "      <td>0</td>\n",
       "      <td>0.0</td>\n",
       "    </tr>\n",
       "    <tr>\n",
       "      <th>2</th>\n",
       "      <td>1/3/17</td>\n",
       "      <td>Tuesday</td>\n",
       "      <td>34.5</td>\n",
       "      <td>1.33</td>\n",
       "      <td>27</td>\n",
       "      <td>0.5</td>\n",
       "      <td>15</td>\n",
       "      <td>0.0</td>\n",
       "      <td>0.00</td>\n",
       "      <td>0.0</td>\n",
       "      <td>0</td>\n",
       "      <td>0.0</td>\n",
       "    </tr>\n",
       "    <tr>\n",
       "      <th>3</th>\n",
       "      <td>1/4/17</td>\n",
       "      <td>Wednesday</td>\n",
       "      <td>44.1</td>\n",
       "      <td>1.05</td>\n",
       "      <td>28</td>\n",
       "      <td>0.5</td>\n",
       "      <td>17</td>\n",
       "      <td>0.0</td>\n",
       "      <td>0.00</td>\n",
       "      <td>0.0</td>\n",
       "      <td>0</td>\n",
       "      <td>0.0</td>\n",
       "    </tr>\n",
       "    <tr>\n",
       "      <th>4</th>\n",
       "      <td>1/5/17</td>\n",
       "      <td>Thursday</td>\n",
       "      <td>42.4</td>\n",
       "      <td>1.00</td>\n",
       "      <td>33</td>\n",
       "      <td>0.5</td>\n",
       "      <td>18</td>\n",
       "      <td>0.0</td>\n",
       "      <td>0.00</td>\n",
       "      <td>0.0</td>\n",
       "      <td>0</td>\n",
       "      <td>0.0</td>\n",
       "    </tr>\n",
       "  </tbody>\n",
       "</table>\n",
       "</div>"
      ],
      "text/plain": [
       "     Date        Day  Temperature  Rainfall  Flyers  Price  Sales  \\\n",
       "0  1/1/17     Sunday         27.0      2.00      15    0.5     10   \n",
       "1  1/2/17     Monday         28.9      1.33      15    0.5     13   \n",
       "2  1/3/17    Tuesday         34.5      1.33      27    0.5     15   \n",
       "3  1/4/17  Wednesday         44.1      1.05      28    0.5     17   \n",
       "4  1/5/17   Thursday         42.4      1.00      33    0.5     18   \n",
       "\n",
       "   Temperature_outlier  Rainfall_outlier  Flyers_outlier  Price_outlier  \\\n",
       "0                  0.0              0.31             0.0              0   \n",
       "1                  0.0              0.00             0.0              0   \n",
       "2                  0.0              0.00             0.0              0   \n",
       "3                  0.0              0.00             0.0              0   \n",
       "4                  0.0              0.00             0.0              0   \n",
       "\n",
       "   Sales_outlier  \n",
       "0            0.0  \n",
       "1            0.0  \n",
       "2            0.0  \n",
       "3            0.0  \n",
       "4            0.0  "
      ]
     },
     "execution_count": 59,
     "metadata": {},
     "output_type": "execute_result"
    }
   ],
   "source": [
    "find_outliers = handle_iqr_outliers(df,multiplier=3,trim=False)\n",
    "find_outliers.head()"
   ]
  },
  {
   "cell_type": "code",
   "execution_count": 54,
   "id": "c175879c",
   "metadata": {},
   "outputs": [
    {
     "data": {
      "text/plain": [
       "41    212.0\n",
       "Name: Temperature, dtype: float64"
      ]
     },
     "execution_count": 54,
     "metadata": {},
     "output_type": "execute_result"
    }
   ],
   "source": [
    "find_outliers.Temperature[find_outliers.Temperature_outlier != 0]"
   ]
  },
  {
   "cell_type": "code",
   "execution_count": 55,
   "id": "e10403d6",
   "metadata": {},
   "outputs": [
    {
     "data": {
      "text/plain": [
       "0      2.00\n",
       "338    1.82\n",
       "343    1.82\n",
       "364    2.50\n",
       "Name: Rainfall, dtype: float64"
      ]
     },
     "execution_count": 55,
     "metadata": {},
     "output_type": "execute_result"
    }
   ],
   "source": [
    "find_outliers.Rainfall[find_outliers.Rainfall_outlier != 0]"
   ]
  },
  {
   "cell_type": "code",
   "execution_count": 56,
   "id": "477bd20e",
   "metadata": {},
   "outputs": [
    {
     "data": {
      "text/plain": [
       "324   -38\n",
       "Name: Flyers, dtype: int64"
      ]
     },
     "execution_count": 56,
     "metadata": {},
     "output_type": "execute_result"
    }
   ],
   "source": [
    "find_outliers.Flyers[find_outliers.Flyers_outlier != 0]"
   ]
  },
  {
   "cell_type": "code",
   "execution_count": 57,
   "id": "c89ea692",
   "metadata": {},
   "outputs": [
    {
     "data": {
      "text/plain": [
       "Series([], Name: Price, dtype: float64)"
      ]
     },
     "execution_count": 57,
     "metadata": {},
     "output_type": "execute_result"
    }
   ],
   "source": [
    "find_outliers.Price[find_outliers.Price_outlier != 0]"
   ]
  },
  {
   "cell_type": "code",
   "execution_count": 58,
   "id": "6844ebba",
   "metadata": {},
   "outputs": [
    {
     "data": {
      "text/plain": [
       "181    143\n",
       "182    158\n",
       "183    235\n",
       "184    534\n",
       "Name: Sales, dtype: int64"
      ]
     },
     "execution_count": 58,
     "metadata": {},
     "output_type": "execute_result"
    }
   ],
   "source": [
    "find_outliers.Sales[find_outliers.Sales_outlier != 0]"
   ]
  },
  {
   "cell_type": "markdown",
   "id": "ce7b9f17",
   "metadata": {},
   "source": [
    "*Same as the 1.5.  Wouldn't necessarily get rid of all of this - notably the Rainfall and Sales.*"
   ]
  },
  {
   "cell_type": "markdown",
   "id": "dc4d5815",
   "metadata": {},
   "source": [
    "##### Identify if any columns are normally distributed"
   ]
  },
  {
   "cell_type": "code",
   "execution_count": 26,
   "id": "9c2d3373",
   "metadata": {},
   "outputs": [
    {
     "data": {
      "image/png": "[encoded data removed]",
      "text/plain": [
       "<Figure size 720x432 with 4 Axes>"
      ]
     },
     "metadata": {
      "needs_background": "light"
     },
     "output_type": "display_data"
    }
   ],
   "source": [
    "plt.figure(figsize=(10,6))\n",
    "for cnt,c in enumerate(df.columns[-4:]):\n",
    "    plt.subplot(2,2,cnt+1)\n",
    "    plt.hist(df[c])\n",
    "    plt.title(c)"
   ]
  },
  {
   "cell_type": "markdown",
   "id": "7ac9ce50",
   "metadata": {},
   "source": [
    "The Flyers column is normally distributed"
   ]
  },
  {
   "cell_type": "markdown",
   "id": "ab6aa368",
   "metadata": {},
   "source": [
    "##### Look at 2 and 3 sigma rule to find the outliers"
   ]
  },
  {
   "cell_type": "code",
   "execution_count": 61,
   "id": "3d79cd14",
   "metadata": {},
   "outputs": [
    {
     "data": {
      "text/plain": [
       "166    77\n",
       "170    70\n",
       "171    76\n",
       "182    68\n",
       "183    68\n",
       "194    80\n",
       "198    76\n",
       "203    72\n",
       "204    69\n",
       "207    74\n",
       "324   -38\n",
       "338    11\n",
       "364     9\n",
       "Name: Flyers, dtype: int64"
      ]
     },
     "execution_count": 61,
     "metadata": {},
     "output_type": "execute_result"
    }
   ],
   "source": [
    "df.Flyers[abs(df.Flyers - df.Flyers.mean())/df.Flyers.std() > 2]"
   ]
  },
  {
   "cell_type": "code",
   "execution_count": 62,
   "id": "7fd51cec",
   "metadata": {},
   "outputs": [
    {
     "data": {
      "text/plain": [
       "324   -38\n",
       "Name: Flyers, dtype: int64"
      ]
     },
     "execution_count": 62,
     "metadata": {},
     "output_type": "execute_result"
    }
   ],
   "source": [
    "df.Flyers[abs(df.Flyers - df.Flyers.mean())/df.Flyers.std() > 3]"
   ]
  },
  {
   "cell_type": "markdown",
   "id": "c0bd00e5",
   "metadata": {},
   "source": [
    "I wouldn't throw out all the outliers on the 2 sigma rule as it contains a lot of good data (which is to be expected as there are still 5% of values)\n",
    "\n",
    "I would throw out the > 3 sigma data as it is clearly bad data"
   ]
  }
 ],
 "metadata": {
  "kernelspec": {
   "display_name": "Python 3 (ipykernel)",
   "language": "python",
   "name": "python3"
  },
  "language_info": {
   "codemirror_mode": {
    "name": "ipython",
    "version": 3
   },
   "file_extension": ".py",
   "mimetype": "text/x-python",
   "name": "python",
   "nbconvert_exporter": "python",
   "pygments_lexer": "ipython3",
   "version": "3.9.7"
  }
 },
 "nbformat": 4,
 "nbformat_minor": 5
}
